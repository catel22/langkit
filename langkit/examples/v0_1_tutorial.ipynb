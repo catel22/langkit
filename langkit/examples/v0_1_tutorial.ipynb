{
 "cells": [
  {
   "cell_type": "markdown",
   "metadata": {},
   "source": [
    "# Changes"
   ]
  },
  {
   "cell_type": "markdown",
   "metadata": {},
   "source": [
    "## Glossary\n",
    "\n",
    "- Feature Modules: Stuff like `toxicity`,`textstat`, `sentiment`, etc.\n",
    "- Feature Presets: A set of feature modules. Possible presets: `light_features`,`llm_features`,`security`,`leakage`, etc."
   ]
  },
  {
   "cell_type": "markdown",
   "metadata": {},
   "source": [
    "## No auto-init\n",
    "\n",
    "Feature modules are no longer auto-initialized. This means that you need to call init for every module you want to use. This is a breaking change.\n",
    "\n",
    "Example:"
   ]
  },
  {
   "cell_type": "code",
   "execution_count": null,
   "metadata": {},
   "outputs": [],
   "source": [
    "from langkit import toxicity, extract\n",
    "\n",
    "schema = toxicity.init()\n",
    "\n",
    "enhanced_df = extract(df, schema=schema)\n"
   ]
  },
  {
   "cell_type": "markdown",
   "metadata": {},
   "source": [
    "## Every module's init returns a schema\n",
    "\n",
    "Every module's init function now returns a schema. The schema should contain only the UDFs that the respective module provides (no global udf registry). This is a breaking change."
   ]
  },
  {
   "cell_type": "code",
   "execution_count": null,
   "metadata": {},
   "outputs": [],
   "source": [
    "from langkit import toxicity, sentiment, extract\n",
    "\n",
    "sentiment_schema = sentiment.init()\n",
    "toxicity_schema = toxicity.init() \n",
    "\n",
    "enhanced_df = extract(df, schema=schema)\n"
   ]
  },
  {
   "cell_type": "markdown",
   "metadata": {},
   "source": [
    "## Schema Mergeability\n",
    "\n",
    "Schemas are mergeable, and that should be the way to build Feature Presets (built-in or custom)"
   ]
  },
  {
   "cell_type": "code",
   "execution_count": null,
   "metadata": {},
   "outputs": [],
   "source": [
    "from langkit.presets import llm_features\n",
    "llm_schema = llm_features.init(config: LangkitConfig)\n",
    "enhanced_df = extract(df, schema=my_schema)\n"
   ]
  },
  {
   "cell_type": "code",
   "execution_count": null,
   "metadata": {},
   "outputs": [],
   "source": [
    "from langkit import toxicity, sentiment, extract\n",
    "\n",
    "sentiment_schema = sentiment.init()\n",
    "toxicity_schema = toxicity.init() \n",
    "\n",
    "my_schema = sentiment_schema.merge(toxicity_schema)\n",
    "\n",
    "enhanced_df = extract(df, schema=my_schema)\n"
   ]
  },
  {
   "cell_type": "markdown",
   "metadata": {},
   "source": [
    "## Config centralization\n",
    "\n",
    "Every feature module should be fully customizable through a `LangkitConfig` object.\n",
    "\n",
    "The reason is that, when initializing a feature preset, we need to be able to pass a single config object to every module."
   ]
  },
  {
   "cell_type": "code",
   "execution_count": null,
   "metadata": {},
   "outputs": [],
   "source": [
    "from langkit import textstat, regexes, extract, lang_config\n",
    "from langkit.presets import light_features\n",
    "\n",
    "textstat_schema = textstat.init(lang_config)\n",
    "regexes_schema = regexes.init(lang_config) \n",
    "\n",
    "my_schema = textstat_schema.merge(regexes_schema)\n",
    "\n",
    "light_schema = light_features.init(config=lang_config)\n",
    "\n",
    "#light_schema should equal my_schema\n",
    "#light_features should have the same customization possibilites as my_schema\n"
   ]
  },
  {
   "cell_type": "markdown",
   "metadata": {},
   "source": [
    "## Multilingual Support\n",
    "\n",
    "Should we include multilingual support in v0.1?"
   ]
  },
  {
   "cell_type": "markdown",
   "metadata": {},
   "source": [
    "## Openai dependency\n",
    "\n",
    "Currently, we support `openai` v0 and v1. Should we clean the code and support only openai v1 in v0.1.0?"
   ]
  }
 ],
 "metadata": {
  "kernelspec": {
   "display_name": "langkit-rNdo63Yk-py3.8",
   "language": "python",
   "name": "python3"
  },
  "language_info": {
   "codemirror_mode": {
    "name": "ipython",
    "version": 3
   },
   "file_extension": ".py",
   "mimetype": "text/x-python",
   "name": "python",
   "nbconvert_exporter": "python",
   "pygments_lexer": "ipython3",
   "version": "3.8.10"
  }
 },
 "nbformat": 4,
 "nbformat_minor": 2
}
